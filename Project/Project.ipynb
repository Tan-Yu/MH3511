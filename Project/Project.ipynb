{
 "cells": [
  {
   "cell_type": "code",
   "execution_count": 290,
   "id": "13c1c13c",
   "metadata": {},
   "outputs": [],
   "source": [
    "# helper functions to detect and remove outlier for the specified columns (used later on)\n",
    "detect_outlier <- function(x) {\n",
    "    Quantile1 <- quantile(x, probs=.25)\n",
    "    Quantile3 <- quantile(x, probs=.75)\n",
    "    IQR = Quantile3-Quantile1\n",
    "    x > Quantile3 + (IQR*1.5) | x < Quantile1 - (IQR*1.5)\n",
    "}\n",
    " \n",
    "remove_outlier <- function(dataframe,col,log=F) {\n",
    "        x <- dataframe\n",
    "        if (log==F){\n",
    "                dataframe <- dataframe[!detect_outlier(dataframe[[col]]), ]\n",
    "        }else{\n",
    "            dataframe <- dataframe[!detect_outlier(log(dataframe[[col]])), ]\n",
    "        }\n",
    "}"
   ]
  },
  {
   "cell_type": "markdown",
   "id": "fbf7b5cc",
   "metadata": {},
   "source": [
    "# 1 Importing of Data and Simple Statistics and Removing NULL values"
   ]
  },
  {
   "cell_type": "code",
   "execution_count": 291,
   "id": "3e3e9a8d",
   "metadata": {},
   "outputs": [],
   "source": [
    "# if want to look at other airbnb data can just change the data_source\n",
    "data_source <- \"london_weekdays.csv\"\n",
    "data1 <- read.csv(paste(\"airbnb/\",data_source, sep=\"\"))"
   ]
  },
  {
   "cell_type": "code",
   "execution_count": 292,
   "id": "dfc5c163",
   "metadata": {},
   "outputs": [
    {
     "data": {
      "text/plain": [
       "       X           realSum                   room_type    room_shared \n",
       " Min.   :   0   Min.   :   64.68   Entire home/apt:1966   False:4591  \n",
       " 1st Qu.:1153   1st Qu.:  167.46   Private room   :2625   True :  23  \n",
       " Median :2306   Median :  256.36   Shared room    :  23               \n",
       " Mean   :2306   Mean   :  360.23                                      \n",
       " 3rd Qu.:3460   3rd Qu.:  435.45                                      \n",
       " Max.   :4613   Max.   :15499.89                                      \n",
       " room_private person_capacity host_is_superhost     multi       \n",
       " False:1989   Min.   :2.000   False:3936        Min.   :0.0000  \n",
       " True :2625   1st Qu.:2.000   True : 678        1st Qu.:0.0000  \n",
       "              Median :2.000                     Median :0.0000  \n",
       "              Mean   :2.832                     Mean   :0.2694  \n",
       "              3rd Qu.:4.000                     3rd Qu.:1.0000  \n",
       "              Max.   :6.000                     Max.   :1.0000  \n",
       "      biz         cleanliness_rating guest_satisfaction_overall    bedrooms    \n",
       " Min.   :0.0000   Min.   : 2.000     Min.   : 20.00             Min.   :0.000  \n",
       " 1st Qu.:0.0000   1st Qu.: 9.000     1st Qu.: 86.00             1st Qu.:1.000  \n",
       " Median :0.0000   Median : 9.000     Median : 93.00             Median :1.000  \n",
       " Mean   :0.4228   Mean   : 9.153     Mean   : 90.32             Mean   :1.124  \n",
       " 3rd Qu.:1.0000   3rd Qu.:10.000     3rd Qu.: 99.00             3rd Qu.:1.000  \n",
       " Max.   :1.0000   Max.   :10.000     Max.   :100.00             Max.   :8.000  \n",
       "      dist            metro_dist       attr_index      attr_index_norm  \n",
       " Min.   : 0.04055   Min.   :0.0139   Min.   :  68.74   Min.   :  4.778  \n",
       " 1st Qu.: 3.55396   1st Qu.:0.3180   1st Qu.: 178.04   1st Qu.: 12.376  \n",
       " Median : 4.89984   Median :0.5235   Median : 251.18   Median : 17.460  \n",
       " Mean   : 5.32502   Mean   :0.9927   Mean   : 296.47   Mean   : 20.608  \n",
       " 3rd Qu.: 6.83523   3rd Qu.:1.0480   3rd Qu.: 361.80   3rd Qu.: 25.149  \n",
       " Max.   :17.32121   Max.   :9.2862   Max.   :1438.62   Max.   :100.000  \n",
       "   rest_index     rest_index_norm        lng                lat       \n",
       " Min.   : 140.5   Min.   :  2.516   Min.   :-0.25170   Min.   :51.42  \n",
       " 1st Qu.: 386.2   1st Qu.:  6.915   1st Qu.:-0.17124   1st Qu.:51.49  \n",
       " Median : 530.3   Median :  9.496   Median :-0.11822   Median :51.51  \n",
       " Mean   : 629.8   Mean   : 11.277   Mean   :-0.11489   Mean   :51.50  \n",
       " 3rd Qu.: 775.5   3rd Qu.: 13.886   3rd Qu.:-0.06726   3rd Qu.:51.52  \n",
       " Max.   :5584.8   Max.   :100.000   Max.   : 0.12018   Max.   :51.58  "
      ]
     },
     "metadata": {},
     "output_type": "display_data"
    }
   ],
   "source": [
    "# summary of data\n",
    "summary(data1)"
   ]
  },
  {
   "cell_type": "code",
   "execution_count": 293,
   "id": "8d790812",
   "metadata": {},
   "outputs": [],
   "source": [
    "# structure of data"
   ]
  },
  {
   "cell_type": "code",
   "execution_count": 294,
   "id": "5407de36",
   "metadata": {},
   "outputs": [
    {
     "name": "stdout",
     "output_type": "stream",
     "text": [
      "'data.frame':\t4614 obs. of  20 variables:\n",
      " $ X                         : int  0 1 2 3 4 5 6 7 8 9 ...\n",
      " $ realSum                   : num  570 298 337 227 256 ...\n",
      " $ room_type                 : Factor w/ 3 levels \"Entire home/apt\",..: 1 2 2 2 2 2 2 2 2 1 ...\n",
      " $ room_shared               : Factor w/ 2 levels \"False\",\"True\": 1 1 1 1 1 1 1 1 1 1 ...\n",
      " $ room_private              : Factor w/ 2 levels \"False\",\"True\": 1 2 2 2 2 2 2 2 2 1 ...\n",
      " $ person_capacity           : num  2 2 2 2 3 2 2 2 4 3 ...\n",
      " $ host_is_superhost         : Factor w/ 2 levels \"False\",\"True\": 1 2 1 2 1 1 1 1 1 1 ...\n",
      " $ multi                     : int  0 1 1 1 0 0 0 1 1 0 ...\n",
      " $ biz                       : int  0 0 0 0 0 0 0 0 0 1 ...\n",
      " $ cleanliness_rating        : num  10 10 10 10 9 10 10 10 9 8 ...\n",
      " $ guest_satisfaction_overall: num  98 99 96 99 98 100 100 95 93 74 ...\n",
      " $ bedrooms                  : int  1 1 1 1 1 1 1 1 1 0 ...\n",
      " $ dist                      : num  5.3 2.2 2.32 5.71 3.26 ...\n",
      " $ metro_dist                : num  1.589 0.379 0.453 1.724 0.825 ...\n",
      " $ attr_index                : num  210 554 428 196 329 ...\n",
      " $ attr_index_norm           : num  14.6 38.5 29.8 13.6 22.9 ...\n",
      " $ rest_index                : num  468 961 959 452 735 ...\n",
      " $ rest_index_norm           : num  8.37 17.22 17.17 8.1 13.17 ...\n",
      " $ lng                       : num  -0.1603 -0.0968 -0.1055 -0.1658 -0.1206 ...\n",
      " $ lat                       : num  51.5 51.5 51.5 51.5 51.5 ...\n"
     ]
    }
   ],
   "source": [
    "# structure of data\n",
    "str(data1)"
   ]
  },
  {
   "cell_type": "code",
   "execution_count": 295,
   "id": "4f0e3ce9",
   "metadata": {},
   "outputs": [
    {
     "name": "stdout",
     "output_type": "stream",
     "text": [
      "[1] \"NA not present in dataframe\"\n"
     ]
    }
   ],
   "source": [
    "# check for na values within the dataframe\n",
    "has_na = F\n",
    "for (i in colnames(data1)){\n",
    "    if (any(is.na(data1[,i]))){\n",
    "        print(paste(\"NA values present in \", i))\n",
    "        has_na = T\n",
    "    }\n",
    "}\n",
    "if (has_na == F){\n",
    "    print(\"NA not present in dataframe\")\n",
    "}\n"
   ]
  },
  {
   "cell_type": "markdown",
   "id": "a20993de",
   "metadata": {},
   "source": [
    "# 2 Description And Cleaning of Dataset For Main Variables of Interest, realSum and guest_satisfaction_overall\n",
    "In this section, we shall look into the data in more detail. Each variable is investigated\n",
    "individually to look for possible outliers, and/or to perform a transformation to avoid highly\n",
    "skewed data."
   ]
  },
  {
   "cell_type": "markdown",
   "id": "d3c590ff",
   "metadata": {},
   "source": [
    "## 2.1 realSum"
   ]
  },
  {
   "cell_type": "markdown",
   "id": "e5bae45b",
   "metadata": {},
   "source": [
    "### 2.1.1 Summary statistics for realSum"
   ]
  },
  {
   "cell_type": "code",
   "execution_count": 296,
   "id": "88e1c348",
   "metadata": {},
   "outputs": [
    {
     "data": {
      "image/png": "[encoded data removed]",
      "text/plain": [
       "Plot with title \"Boxplot of log(realSum)\""
      ]
     },
     "metadata": {},
     "output_type": "display_data"
    }
   ],
   "source": [
    "par(mfrow=c(2,2))\n",
    "hist(data1$realSum, main=\"Histogram of realSum\", xlab=\"realSum\")\n",
    "boxplot(data1$realSum, main=\"Boxplot of realSum\")\n",
    "hist(log(data1$realSum), main=\"Histogram of log(realSum)\", xlab=\"log(realSum)\")\n",
    "boxplot(log(data1$realSum), main=\"Boxplot of log(realSum)\")\n",
    "# distribution of real sum is highly right skewed, so we applied a log transformation to the vairable. However there still appears\n",
    "# to be some outliers even after the log transformation as seen from the boxplot of log(realSum)"
   ]
  },
  {
   "cell_type": "markdown",
   "id": "1fcb62f8",
   "metadata": {},
   "source": [
    "### 2.1.2 Removal of Outliers with respect to realSum using the interquartile method"
   ]
  },
  {
   "cell_type": "code",
   "execution_count": 297,
   "id": "e97ff8ac",
   "metadata": {},
   "outputs": [],
   "source": [
    "data1 <- remove_outlier(data1, c(\"realSum\"),log=T)"
   ]
  },
  {
   "cell_type": "markdown",
   "id": "10d4ffd8",
   "metadata": {},
   "source": [
    "### 2.1.3 Summary statistics for realSum with outliers removed"
   ]
  },
  {
   "cell_type": "code",
   "execution_count": 298,
   "id": "f97e4473",
   "metadata": {},
   "outputs": [
    {
     "data": {
      "image/png": "[encoded data removed]",
      "text/plain": [
       "Plot with title \"Boxplot of log(realSum)\""
      ]
     },
     "metadata": {},
     "output_type": "display_data"
    }
   ],
   "source": [
    "par(mfrow=c(2,2))\n",
    "hist(log(data1$realSum), main=\"Histogram of log(realSum)\", xlab=\"realSum\")\n",
    "boxplot(log(data1$realSum), main=\"Boxplot of log(realSum)\")"
   ]
  },
  {
   "cell_type": "code",
   "execution_count": 299,
   "id": "56c5d9a5",
   "metadata": {},
   "outputs": [
    {
     "data": {
      "text/plain": [
       "   Min. 1st Qu.  Median    Mean 3rd Qu.    Max. \n",
       "  64.68  166.75  253.30  333.11  427.57 1811.90 "
      ]
     },
     "metadata": {},
     "output_type": "display_data"
    }
   ],
   "source": [
    "summary(data1$realSum)"
   ]
  },
  {
   "cell_type": "markdown",
   "id": "985f450e",
   "metadata": {},
   "source": [
    "## 2.2 guest_satisfaction_overall"
   ]
  },
  {
   "cell_type": "markdown",
   "id": "5417bd49",
   "metadata": {},
   "source": [
    "### 2.2.1 Summary Statistics for guest_satisfaction_overall"
   ]
  },
  {
   "cell_type": "code",
   "execution_count": 300,
   "id": "832daa5e",
   "metadata": {},
   "outputs": [
    {
     "data": {
      "image/png": "[encoded data removed]",
      "text/plain": [
       "Plot with title \"Boxplot of guest_satisfaction_overall\""
      ]
     },
     "metadata": {},
     "output_type": "display_data"
    }
   ],
   "source": [
    "par(mfrow=c(2,2))\n",
    "hist(data1$guest_satisfaction_overall, main=\"Histogram of guest_satisfaction_overall\", xlab=\"guest_satisfaction_overall\")\n",
    "boxplot(data1$guest_satisfaction_overall, main=\"Boxplot of guest_satisfaction_overall\")\n",
    "# distribution of guest_satisfaction_overall is highly left skewed (idk whether we should normalize this)"
   ]
  },
  {
   "cell_type": "markdown",
   "id": "7dee2b36",
   "metadata": {},
   "source": [
    "### 2.2.2 Removal of Outliers with respect to realSum using the interquartile method"
   ]
  },
  {
   "cell_type": "code",
   "execution_count": 301,
   "id": "b93501c2",
   "metadata": {},
   "outputs": [],
   "source": [
    "data1 <- remove_outlier(data1, c(\"guest_satisfaction_overall\"))"
   ]
  },
  {
   "cell_type": "markdown",
   "id": "08e04877",
   "metadata": {},
   "source": [
    "### 2.2.3 Summary statistics for guest_satisfaction_overall with outliers removed"
   ]
  },
  {
   "cell_type": "code",
   "execution_count": 302,
   "id": "888902e1",
   "metadata": {},
   "outputs": [
    {
     "data": {
      "image/png": "[encoded data removed]",
      "text/plain": [
       "Plot with title \"Boxplot of guest_satisfaction_overall\""
      ]
     },
     "metadata": {},
     "output_type": "display_data"
    }
   ],
   "source": [
    "par(mfrow=c(2,2))\n",
    "hist(data1$guest_satisfaction_overall, main=\"Histogram of guest_satisfaction_overall\", xlab=\"guest_satisfaction_overall\")\n",
    "boxplot(data1$guest_satisfaction_overall, main=\"Boxplot of guest_satisfaction_overall\")"
   ]
  },
  {
   "cell_type": "code",
   "execution_count": 303,
   "id": "4c40feb6",
   "metadata": {},
   "outputs": [
    {
     "data": {
      "text/plain": [
       "   Min. 1st Qu.  Median    Mean 3rd Qu.    Max. \n",
       "  67.00   87.00   94.00   91.94   99.00  100.00 "
      ]
     },
     "metadata": {},
     "output_type": "display_data"
    }
   ],
   "source": [
    "summary(data1$guest_satisfaction_overall)"
   ]
  },
  {
   "cell_type": "markdown",
   "id": "d977e490",
   "metadata": {},
   "source": [
    "# 3 Description And Cleaning of Dataset For Other Variables (Numeric)\n",
    "In this section, we shall look at some other numeric variables of interest. Each variable is investigated\n",
    "individually to look for possible outliers, and/or to perform a transformation to avoid highly\n",
    "skewed data."
   ]
  },
  {
   "cell_type": "markdown",
   "id": "a2aa6d7d",
   "metadata": {},
   "source": [
    "## 3.1 dist (distance from city centre)"
   ]
  },
  {
   "cell_type": "markdown",
   "id": "dea46edb",
   "metadata": {},
   "source": [
    "### 3.1.1 Summary Statistics for dist"
   ]
  },
  {
   "cell_type": "code",
   "execution_count": 304,
   "id": "57d7da33",
   "metadata": {},
   "outputs": [
    {
     "data": {
      "image/png": "[encoded data removed]",
      "text/plain": [
       "Plot with title \"Boxplot of dist\""
      ]
     },
     "metadata": {},
     "output_type": "display_data"
    }
   ],
   "source": [
    "par(mfrow=c(2,2))\n",
    "hist(data1$dist, main=\"Histogram of dist\", xlab=\"dist\")\n",
    "boxplot(data1$dist, main=\"Boxplot of dist\")\n",
    "# looks pretty normal"
   ]
  },
  {
   "cell_type": "markdown",
   "id": "7e32816c",
   "metadata": {},
   "source": [
    "## 3.1.2 Removal of Outliers with respect to realSum using the interquartile method"
   ]
  },
  {
   "cell_type": "code",
   "execution_count": 305,
   "id": "4b95776e",
   "metadata": {},
   "outputs": [],
   "source": [
    "data1 <- remove_outlier(data1, c(\"dist\"))"
   ]
  },
  {
   "cell_type": "markdown",
   "id": "516254ee",
   "metadata": {},
   "source": [
    "### 3.1.3 Summary statistics for dist with outliers removed"
   ]
  },
  {
   "cell_type": "code",
   "execution_count": 306,
   "id": "1ad3006b",
   "metadata": {},
   "outputs": [
    {
     "data": {
      "image/png": "[encoded data removed]",
      "text/plain": [
       "Plot with title \"Boxplot of dist\""
      ]
     },
     "metadata": {},
     "output_type": "display_data"
    }
   ],
   "source": [
    "par(mfrow=c(2,2))\n",
    "hist(data1$dist, main=\"Histogram of dist\", xlab=\"dist\")\n",
    "boxplot(data1$dist, main=\"Boxplot of dist\")"
   ]
  },
  {
   "cell_type": "markdown",
   "id": "f2f1f48f",
   "metadata": {},
   "source": [
    "## 3.2 metro_dist (distance from nearest metro station)"
   ]
  },
  {
   "cell_type": "markdown",
   "id": "cf51c293",
   "metadata": {},
   "source": [
    "### 3.2.1 Summary Statistics for metro_dist"
   ]
  },
  {
   "cell_type": "code",
   "execution_count": 284,
   "id": "2e9189e6",
   "metadata": {},
   "outputs": [
    {
     "data": {
      "image/png": "[encoded data removed]",
      "text/plain": [
       "Plot with title \"Boxplot of log(metro_dist)\""
      ]
     },
     "metadata": {},
     "output_type": "display_data"
    }
   ],
   "source": [
    "par(mfrow=c(2,2))\n",
    "hist(data1$metro_dist, main=\"Histogram of metro_dist\", xlab=\"metro_dist\")\n",
    "boxplot(data1$metro_dist, main=\"Boxplot of metro_dist\")\n",
    "hist(log(data1$metro_dist), main=\"Histogram of log(metro_dist)\", xlab=\"log(metro_dist)\")\n",
    "boxplot(log(data1$metro_dist), main=\"Boxplot of log(metro_dist)\")\n",
    "# normalize with log transform"
   ]
  },
  {
   "cell_type": "markdown",
   "id": "aa305f01",
   "metadata": {},
   "source": [
    "### 3.2.2 Removal of Outliers with respect to metro_dist using the interquartile method"
   ]
  },
  {
   "cell_type": "code",
   "execution_count": 285,
   "id": "1f3a26f9",
   "metadata": {},
   "outputs": [],
   "source": [
    "data1 <- remove_outlier(data1, c(\"metro_dist\"), log=T)"
   ]
  },
  {
   "cell_type": "markdown",
   "id": "1f7a08ab",
   "metadata": {},
   "source": [
    "### 3.2.3 Summary statistics for metro_dist with outliers removed"
   ]
  },
  {
   "cell_type": "code",
   "execution_count": 286,
   "id": "1b7a4338",
   "metadata": {},
   "outputs": [
    {
     "data": {
      "image/png": "[encoded data removed]",
      "text/plain": [
       "Plot with title \"Boxplot of log(metro_dist)\""
      ]
     },
     "metadata": {},
     "output_type": "display_data"
    }
   ],
   "source": [
    "par(mfrow=c(2,2))\n",
    "hist(log(data1$metro_dist), main=\"Histogram of log(metro_dist)\", xlab=\"log(metro_dist)\")\n",
    "boxplot(log(data1$metro_dist), main=\"Boxplot of log(metro_dist)\")"
   ]
  },
  {
   "cell_type": "markdown",
   "id": "d4d5c364",
   "metadata": {},
   "source": [
    "# 4 Description And Cleaning of Dataset For Other Variables (Categorical)\n",
    "In this section, we shall look at some other Categorical variables of interest."
   ]
  },
  {
   "cell_type": "markdown",
   "id": "0a0a5843",
   "metadata": {},
   "source": [
    "## 4.1 Sumamry statistics of some categorical variables"
   ]
  },
  {
   "cell_type": "code",
   "execution_count": 287,
   "id": "d71f9141",
   "metadata": {},
   "outputs": [
    {
     "data": {
      "image/png": "[encoded data removed]",
      "text/plain": [
       "Plot with title \"Number of Airbnb Listings by Person Capacity\""
      ]
     },
     "metadata": {},
     "output_type": "display_data"
    }
   ],
   "source": [
    "par(mfrow=c(2,2))\n",
    "barplot(table(data1$room_type), main=\"Number of Airbnb Listings for Each Room Type\")\n",
    "barplot(table(data1$host_is_superhost), main=\"Number of Airbnb Listings by Host Status \")\n",
    "barplot(table(data1$cleanliness_rating), main=\"Number of Airbnb by Clealiness Rating\")\n",
    "barplot(table(data1$person_capacity), main=\"Number of Airbnb Listings by Person Capacity\")"
   ]
  },
  {
   "cell_type": "markdown",
   "id": "b5ab1963",
   "metadata": {},
   "source": [
    "# 5 Creating Final Dataset for Analysis\n",
    "Redundant columns that have not been chosen above will be removed from the dataset. Log transformation will be applied to realSum and metro_dist and two new columns log_real_sum and log_metro_sum will be also be added to the dataset to facilitate analysis. redundant columns that have not been chosen above will "
   ]
  },
  {
   "cell_type": "code",
   "execution_count": 308,
   "id": "ceb1865e",
   "metadata": {},
   "outputs": [],
   "source": [
    "data1[\"log_real_sum\"] <- log(data1$realSum)\n",
    "data1[\"log_metro_dist\"] <- log(data1$metro_dist)\n",
    "data1 <- subset(data1, select = c(\"log_real_sum\", \"guest_satisfaction_overall\", \"dist\", \"log_metro_dist\", \"room_type\", \"host_is_superhost\", \"cleanliness_rating\", \"person_capacity\"))"
   ]
  },
  {
   "cell_type": "code",
   "execution_count": 309,
   "id": "db15674d",
   "metadata": {},
   "outputs": [
    {
     "data": {
      "text/html": [
       "<table>\n",
       "<thead><tr><th></th><th scope=col>log_real_sum</th><th scope=col>guest_satisfaction_overall</th><th scope=col>dist</th><th scope=col>log_metro_dist</th><th scope=col>room_type</th><th scope=col>host_is_superhost</th><th scope=col>cleanliness_rating</th><th scope=col>person_capacity</th></tr></thead>\n",
       "<tbody>\n",
       "\t<tr><th scope=row>1</th><td>6.345808       </td><td> 98            </td><td>5.301018       </td><td> 0.46309882    </td><td>Entire home/apt</td><td>False          </td><td>10             </td><td>2              </td></tr>\n",
       "\t<tr><th scope=row>2</th><td>5.697041       </td><td> 99            </td><td>2.198946       </td><td>-0.96952798    </td><td>Private room   </td><td>True           </td><td>10             </td><td>2              </td></tr>\n",
       "\t<tr><th scope=row>3</th><td>5.819461       </td><td> 96            </td><td>2.322958       </td><td>-0.79147115    </td><td>Private room   </td><td>False          </td><td>10             </td><td>2              </td></tr>\n",
       "\t<tr><th scope=row>4</th><td>5.423725       </td><td> 99            </td><td>5.707825       </td><td> 0.54463390    </td><td>Private room   </td><td>True           </td><td>10             </td><td>2              </td></tr>\n",
       "\t<tr><th scope=row>5</th><td>5.546567       </td><td> 98            </td><td>3.257945       </td><td>-0.19186635    </td><td>Private room   </td><td>False          </td><td> 9             </td><td>3              </td></tr>\n",
       "\t<tr><th scope=row>6</th><td>5.480192       </td><td>100            </td><td>5.085730       </td><td> 0.59123521    </td><td>Private room   </td><td>False          </td><td>10             </td><td>2              </td></tr>\n",
       "\t<tr><th scope=row>7</th><td>5.781023       </td><td>100            </td><td>4.595055       </td><td>-1.21443171    </td><td>Private room   </td><td>False          </td><td>10             </td><td>2              </td></tr>\n",
       "\t<tr><th scope=row>8</th><td>5.047900       </td><td> 95            </td><td>5.102453       </td><td> 0.01361301    </td><td>Private room   </td><td>False          </td><td>10             </td><td>2              </td></tr>\n",
       "\t<tr><th scope=row>9</th><td>4.862552       </td><td> 93            </td><td>4.534041       </td><td> 0.57256366    </td><td>Private room   </td><td>False          </td><td> 9             </td><td>4              </td></tr>\n",
       "\t<tr><th scope=row>10</th><td>5.505363       </td><td> 74            </td><td>3.746655       </td><td>-0.87334028    </td><td>Entire home/apt</td><td>False          </td><td> 8             </td><td>3              </td></tr>\n",
       "\t<tr><th scope=row>11</th><td>5.394250       </td><td> 79            </td><td>3.789853       </td><td>-0.96059959    </td><td>Entire home/apt</td><td>False          </td><td> 9             </td><td>2              </td></tr>\n",
       "\t<tr><th scope=row>12</th><td>5.894118       </td><td> 83            </td><td>4.639113       </td><td>-0.70213147    </td><td>Entire home/apt</td><td>False          </td><td> 8             </td><td>2              </td></tr>\n",
       "\t<tr><th scope=row>13</th><td>5.334826       </td><td> 80            </td><td>5.945243       </td><td> 0.55558250    </td><td>Private room   </td><td>False          </td><td> 4             </td><td>2              </td></tr>\n",
       "\t<tr><th scope=row>14</th><td>5.652661       </td><td> 97            </td><td>3.221715       </td><td> 0.14166694    </td><td>Private room   </td><td>True           </td><td> 9             </td><td>2              </td></tr>\n",
       "\t<tr><th scope=row>15</th><td>6.224927       </td><td> 90            </td><td>4.487706       </td><td> 0.67746487    </td><td>Entire home/apt</td><td>False          </td><td> 9             </td><td>4              </td></tr>\n",
       "\t<tr><th scope=row>16</th><td>4.959514       </td><td> 96            </td><td>4.323866       </td><td>-0.21337515    </td><td>Private room   </td><td>False          </td><td>10             </td><td>2              </td></tr>\n",
       "\t<tr><th scope=row>17</th><td>5.739535       </td><td> 93            </td><td>5.328496       </td><td> 0.56189997    </td><td>Private room   </td><td>False          </td><td> 9             </td><td>2              </td></tr>\n",
       "\t<tr><th scope=row>18</th><td>6.411661       </td><td> 90            </td><td>3.589793       </td><td>-1.60297967    </td><td>Entire home/apt</td><td>False          </td><td>10             </td><td>4              </td></tr>\n",
       "\t<tr><th scope=row>19</th><td>5.334826       </td><td> 99            </td><td>5.116671       </td><td> 0.51545822    </td><td>Private room   </td><td>True           </td><td>10             </td><td>2              </td></tr>\n",
       "\t<tr><th scope=row>20</th><td>5.270439       </td><td> 95            </td><td>3.695675       </td><td>-1.04013730    </td><td>Private room   </td><td>False          </td><td>10             </td><td>2              </td></tr>\n",
       "\t<tr><th scope=row>21</th><td>6.240173       </td><td> 95            </td><td>3.545079       </td><td>-0.39102002    </td><td>Entire home/apt</td><td>False          </td><td> 9             </td><td>4              </td></tr>\n",
       "\t<tr><th scope=row>22</th><td>5.328000       </td><td> 97            </td><td>3.218594       </td><td>-0.75999247    </td><td>Private room   </td><td>True           </td><td>10             </td><td>2              </td></tr>\n",
       "\t<tr><th scope=row>23</th><td>5.363878       </td><td> 96            </td><td>3.066884       </td><td>-0.69180959    </td><td>Private room   </td><td>True           </td><td> 9             </td><td>2              </td></tr>\n",
       "\t<tr><th scope=row>24</th><td>5.371558       </td><td> 89            </td><td>3.481758       </td><td>-1.48977594    </td><td>Private room   </td><td>False          </td><td> 9             </td><td>3              </td></tr>\n",
       "\t<tr><th scope=row>25</th><td>4.979123       </td><td>100            </td><td>5.689223       </td><td>-0.07994721    </td><td>Private room   </td><td>True           </td><td>10             </td><td>2              </td></tr>\n",
       "\t<tr><th scope=row>27</th><td>5.605355       </td><td> 96            </td><td>3.776313       </td><td>-0.25764536    </td><td>Private room   </td><td>False          </td><td>10             </td><td>5              </td></tr>\n",
       "\t<tr><th scope=row>28</th><td>5.395317       </td><td> 91            </td><td>3.783454       </td><td>-0.24804864    </td><td>Private room   </td><td>False          </td><td> 9             </td><td>2              </td></tr>\n",
       "\t<tr><th scope=row>29</th><td>5.893470       </td><td> 91            </td><td>5.453817       </td><td> 0.05956976    </td><td>Entire home/apt</td><td>False          </td><td> 9             </td><td>2              </td></tr>\n",
       "\t<tr><th scope=row>30</th><td>5.605355       </td><td> 93            </td><td>4.193576       </td><td>-1.26748372    </td><td>Entire home/apt</td><td>False          </td><td> 9             </td><td>3              </td></tr>\n",
       "\t<tr><th scope=row>31</th><td>5.334826       </td><td> 89            </td><td>5.943429       </td><td> 0.29316137    </td><td>Private room   </td><td>False          </td><td> 9             </td><td>2              </td></tr>\n",
       "\t<tr><th scope=row>...</th><td>...</td><td>...</td><td>...</td><td>...</td><td>...</td><td>...</td><td>...</td><td>...</td></tr>\n",
       "\t<tr><th scope=row>4585</th><td>5.168699       </td><td>100            </td><td>8.373487       </td><td> 1.0706432     </td><td>Private room   </td><td>False          </td><td> 9             </td><td>2              </td></tr>\n",
       "\t<tr><th scope=row>4586</th><td>5.504406       </td><td>100            </td><td>9.097793       </td><td> 0.8981538     </td><td>Private room   </td><td>False          </td><td> 9             </td><td>2              </td></tr>\n",
       "\t<tr><th scope=row>4587</th><td>4.910476       </td><td> 85            </td><td>6.217976       </td><td> 0.1378439     </td><td>Private room   </td><td>False          </td><td> 8             </td><td>2              </td></tr>\n",
       "\t<tr><th scope=row>4588</th><td>4.957863       </td><td> 98            </td><td>7.515516       </td><td> 0.5292551     </td><td>Private room   </td><td>True           </td><td>10             </td><td>2              </td></tr>\n",
       "\t<tr><th scope=row>4589</th><td>5.380263       </td><td> 93            </td><td>5.469061       </td><td>-0.9808808     </td><td>Private room   </td><td>True           </td><td>10             </td><td>2              </td></tr>\n",
       "\t<tr><th scope=row>4590</th><td>4.957863       </td><td>100            </td><td>9.716556       </td><td> 0.7283276     </td><td>Private room   </td><td>False          </td><td> 6             </td><td>2              </td></tr>\n",
       "\t<tr><th scope=row>4591</th><td>5.772276       </td><td> 92            </td><td>6.941642       </td><td> 0.6407680     </td><td>Private room   </td><td>False          </td><td>10             </td><td>2              </td></tr>\n",
       "\t<tr><th scope=row>4592</th><td>5.351690       </td><td>100            </td><td>9.494305       </td><td>-0.4052656     </td><td>Private room   </td><td>True           </td><td>10             </td><td>2              </td></tr>\n",
       "\t<tr><th scope=row>4593</th><td>5.455377       </td><td> 97            </td><td>9.342033       </td><td>-0.4282111     </td><td>Private room   </td><td>True           </td><td>10             </td><td>2              </td></tr>\n",
       "\t<tr><th scope=row>4594</th><td>5.043358       </td><td> 93            </td><td>7.449505       </td><td> 0.1147213     </td><td>Private room   </td><td>True           </td><td> 9             </td><td>2              </td></tr>\n",
       "\t<tr><th scope=row>4595</th><td>5.829882       </td><td> 97            </td><td>9.439182       </td><td>-0.2845993     </td><td>Entire home/apt</td><td>True           </td><td>10             </td><td>4              </td></tr>\n",
       "\t<tr><th scope=row>4596</th><td>6.126679       </td><td> 92            </td><td>4.174994       </td><td>-0.4935077     </td><td>Entire home/apt</td><td>False          </td><td> 9             </td><td>2              </td></tr>\n",
       "\t<tr><th scope=row>4597</th><td>5.070305       </td><td> 93            </td><td>5.015802       </td><td> 0.1405277     </td><td>Private room   </td><td>False          </td><td>10             </td><td>2              </td></tr>\n",
       "\t<tr><th scope=row>4598</th><td>6.366226       </td><td>100            </td><td>7.067142       </td><td> 0.3498878     </td><td>Entire home/apt</td><td>False          </td><td> 9             </td><td>4              </td></tr>\n",
       "\t<tr><th scope=row>4599</th><td>5.603624       </td><td> 86            </td><td>7.109921       </td><td> 0.6931596     </td><td>Private room   </td><td>False          </td><td> 9             </td><td>4              </td></tr>\n",
       "\t<tr><th scope=row>4600</th><td>5.293153       </td><td> 93            </td><td>6.227193       </td><td>-1.5904407     </td><td>Private room   </td><td>False          </td><td>10             </td><td>2              </td></tr>\n",
       "\t<tr><th scope=row>4601</th><td>5.555700       </td><td> 84            </td><td>7.489919       </td><td> 0.8681703     </td><td>Entire home/apt</td><td>False          </td><td>10             </td><td>4              </td></tr>\n",
       "\t<tr><th scope=row>4602</th><td>5.892172       </td><td> 94            </td><td>5.886969       </td><td>-2.1134230     </td><td>Entire home/apt</td><td>False          </td><td> 9             </td><td>6              </td></tr>\n",
       "\t<tr><th scope=row>4603</th><td>5.445276       </td><td> 93            </td><td>4.152503       </td><td>-0.1346498     </td><td>Private room   </td><td>False          </td><td> 9             </td><td>2              </td></tr>\n",
       "\t<tr><th scope=row>4604</th><td>5.124917       </td><td>100            </td><td>7.091358       </td><td> 0.6848041     </td><td>Private room   </td><td>False          </td><td>10             </td><td>2              </td></tr>\n",
       "\t<tr><th scope=row>4605</th><td>5.248433       </td><td> 91            </td><td>7.303631       </td><td> 0.5522990     </td><td>Private room   </td><td>False          </td><td> 9             </td><td>2              </td></tr>\n",
       "\t<tr><th scope=row>4606</th><td>5.926636       </td><td> 90            </td><td>7.496856       </td><td> 0.2685037     </td><td>Entire home/apt</td><td>False          </td><td>10             </td><td>3              </td></tr>\n",
       "\t<tr><th scope=row>4607</th><td>5.084968       </td><td> 90            </td><td>8.145774       </td><td> 0.7125558     </td><td>Private room   </td><td>False          </td><td> 9             </td><td>2              </td></tr>\n",
       "\t<tr><th scope=row>4608</th><td>4.920821       </td><td> 99            </td><td>8.637521       </td><td>-0.4650520     </td><td>Private room   </td><td>False          </td><td>10             </td><td>2              </td></tr>\n",
       "\t<tr><th scope=row>4609</th><td>5.493824       </td><td> 95            </td><td>4.051331       </td><td>-0.7529013     </td><td>Private room   </td><td>False          </td><td>10             </td><td>2              </td></tr>\n",
       "\t<tr><th scope=row>4610</th><td>5.738021       </td><td>100            </td><td>6.347654       </td><td>-0.8077455     </td><td>Private room   </td><td>False          </td><td>10             </td><td>2              </td></tr>\n",
       "\t<tr><th scope=row>4611</th><td>5.579949       </td><td> 84            </td><td>5.231706       </td><td>-0.7679800     </td><td>Entire home/apt</td><td>False          </td><td> 8             </td><td>4              </td></tr>\n",
       "\t<tr><th scope=row>4612</th><td>4.957863       </td><td> 97            </td><td>8.867238       </td><td> 0.9839520     </td><td>Private room   </td><td>False          </td><td>10             </td><td>2              </td></tr>\n",
       "\t<tr><th scope=row>4613</th><td>5.919711       </td><td> 80            </td><td>7.576798       </td><td> 0.5203981     </td><td>Private room   </td><td>False          </td><td> 8             </td><td>2              </td></tr>\n",
       "\t<tr><th scope=row>4614</th><td>6.351157       </td><td> 98            </td><td>6.882617       </td><td> 0.3596579     </td><td>Entire home/apt</td><td>True           </td><td>10             </td><td>6              </td></tr>\n",
       "</tbody>\n",
       "</table>\n"
      ],
      "text/latex": [
       "\\begin{tabular}{r|llllllll}\n",
       "  & log\\_real\\_sum & guest\\_satisfaction\\_overall & dist & log\\_metro\\_dist & room\\_type & host\\_is\\_superhost & cleanliness\\_rating & person\\_capacity\\\\\n",
       "\\hline\n",
       "\t1 & 6.345808        &  98             & 5.301018        &  0.46309882     & Entire home/apt & False           & 10              & 2              \\\\\n",
       "\t2 & 5.697041        &  99             & 2.198946        & -0.96952798     & Private room    & True            & 10              & 2              \\\\\n",
       "\t3 & 5.819461        &  96             & 2.322958        & -0.79147115     & Private room    & False           & 10              & 2              \\\\\n",
       "\t4 & 5.423725        &  99             & 5.707825        &  0.54463390     & Private room    & True            & 10              & 2              \\\\\n",
       "\t5 & 5.546567        &  98             & 3.257945        & -0.19186635     & Private room    & False           &  9              & 3              \\\\\n",
       "\t6 & 5.480192        & 100             & 5.085730        &  0.59123521     & Private room    & False           & 10              & 2              \\\\\n",
       "\t7 & 5.781023        & 100             & 4.595055        & -1.21443171     & Private room    & False           & 10              & 2              \\\\\n",
       "\t8 & 5.047900        &  95             & 5.102453        &  0.01361301     & Private room    & False           & 10              & 2              \\\\\n",
       "\t9 & 4.862552        &  93             & 4.534041        &  0.57256366     & Private room    & False           &  9              & 4              \\\\\n",
       "\t10 & 5.505363        &  74             & 3.746655        & -0.87334028     & Entire home/apt & False           &  8              & 3              \\\\\n",
       "\t11 & 5.394250        &  79             & 3.789853        & -0.96059959     & Entire home/apt & False           &  9              & 2              \\\\\n",
       "\t12 & 5.894118        &  83             & 4.639113        & -0.70213147     & Entire home/apt & False           &  8              & 2              \\\\\n",
       "\t13 & 5.334826        &  80             & 5.945243        &  0.55558250     & Private room    & False           &  4              & 2              \\\\\n",
       "\t14 & 5.652661        &  97             & 3.221715        &  0.14166694     & Private room    & True            &  9              & 2              \\\\\n",
       "\t15 & 6.224927        &  90             & 4.487706        &  0.67746487     & Entire home/apt & False           &  9              & 4              \\\\\n",
       "\t16 & 4.959514        &  96             & 4.323866        & -0.21337515     & Private room    & False           & 10              & 2              \\\\\n",
       "\t17 & 5.739535        &  93             & 5.328496        &  0.56189997     & Private room    & False           &  9              & 2              \\\\\n",
       "\t18 & 6.411661        &  90             & 3.589793        & -1.60297967     & Entire home/apt & False           & 10              & 4              \\\\\n",
       "\t19 & 5.334826        &  99             & 5.116671        &  0.51545822     & Private room    & True            & 10              & 2              \\\\\n",
       "\t20 & 5.270439        &  95             & 3.695675        & -1.04013730     & Private room    & False           & 10              & 2              \\\\\n",
       "\t21 & 6.240173        &  95             & 3.545079        & -0.39102002     & Entire home/apt & False           &  9              & 4              \\\\\n",
       "\t22 & 5.328000        &  97             & 3.218594        & -0.75999247     & Private room    & True            & 10              & 2              \\\\\n",
       "\t23 & 5.363878        &  96             & 3.066884        & -0.69180959     & Private room    & True            &  9              & 2              \\\\\n",
       "\t24 & 5.371558        &  89             & 3.481758        & -1.48977594     & Private room    & False           &  9              & 3              \\\\\n",
       "\t25 & 4.979123        & 100             & 5.689223        & -0.07994721     & Private room    & True            & 10              & 2              \\\\\n",
       "\t27 & 5.605355        &  96             & 3.776313        & -0.25764536     & Private room    & False           & 10              & 5              \\\\\n",
       "\t28 & 5.395317        &  91             & 3.783454        & -0.24804864     & Private room    & False           &  9              & 2              \\\\\n",
       "\t29 & 5.893470        &  91             & 5.453817        &  0.05956976     & Entire home/apt & False           &  9              & 2              \\\\\n",
       "\t30 & 5.605355        &  93             & 4.193576        & -1.26748372     & Entire home/apt & False           &  9              & 3              \\\\\n",
       "\t31 & 5.334826        &  89             & 5.943429        &  0.29316137     & Private room    & False           &  9              & 2              \\\\\n",
       "\t... & ... & ... & ... & ... & ... & ... & ... & ...\\\\\n",
       "\t4585 & 5.168699        & 100             & 8.373487        &  1.0706432      & Private room    & False           &  9              & 2              \\\\\n",
       "\t4586 & 5.504406        & 100             & 9.097793        &  0.8981538      & Private room    & False           &  9              & 2              \\\\\n",
       "\t4587 & 4.910476        &  85             & 6.217976        &  0.1378439      & Private room    & False           &  8              & 2              \\\\\n",
       "\t4588 & 4.957863        &  98             & 7.515516        &  0.5292551      & Private room    & True            & 10              & 2              \\\\\n",
       "\t4589 & 5.380263        &  93             & 5.469061        & -0.9808808      & Private room    & True            & 10              & 2              \\\\\n",
       "\t4590 & 4.957863        & 100             & 9.716556        &  0.7283276      & Private room    & False           &  6              & 2              \\\\\n",
       "\t4591 & 5.772276        &  92             & 6.941642        &  0.6407680      & Private room    & False           & 10              & 2              \\\\\n",
       "\t4592 & 5.351690        & 100             & 9.494305        & -0.4052656      & Private room    & True            & 10              & 2              \\\\\n",
       "\t4593 & 5.455377        &  97             & 9.342033        & -0.4282111      & Private room    & True            & 10              & 2              \\\\\n",
       "\t4594 & 5.043358        &  93             & 7.449505        &  0.1147213      & Private room    & True            &  9              & 2              \\\\\n",
       "\t4595 & 5.829882        &  97             & 9.439182        & -0.2845993      & Entire home/apt & True            & 10              & 4              \\\\\n",
       "\t4596 & 6.126679        &  92             & 4.174994        & -0.4935077      & Entire home/apt & False           &  9              & 2              \\\\\n",
       "\t4597 & 5.070305        &  93             & 5.015802        &  0.1405277      & Private room    & False           & 10              & 2              \\\\\n",
       "\t4598 & 6.366226        & 100             & 7.067142        &  0.3498878      & Entire home/apt & False           &  9              & 4              \\\\\n",
       "\t4599 & 5.603624        &  86             & 7.109921        &  0.6931596      & Private room    & False           &  9              & 4              \\\\\n",
       "\t4600 & 5.293153        &  93             & 6.227193        & -1.5904407      & Private room    & False           & 10              & 2              \\\\\n",
       "\t4601 & 5.555700        &  84             & 7.489919        &  0.8681703      & Entire home/apt & False           & 10              & 4              \\\\\n",
       "\t4602 & 5.892172        &  94             & 5.886969        & -2.1134230      & Entire home/apt & False           &  9              & 6              \\\\\n",
       "\t4603 & 5.445276        &  93             & 4.152503        & -0.1346498      & Private room    & False           &  9              & 2              \\\\\n",
       "\t4604 & 5.124917        & 100             & 7.091358        &  0.6848041      & Private room    & False           & 10              & 2              \\\\\n",
       "\t4605 & 5.248433        &  91             & 7.303631        &  0.5522990      & Private room    & False           &  9              & 2              \\\\\n",
       "\t4606 & 5.926636        &  90             & 7.496856        &  0.2685037      & Entire home/apt & False           & 10              & 3              \\\\\n",
       "\t4607 & 5.084968        &  90             & 8.145774        &  0.7125558      & Private room    & False           &  9              & 2              \\\\\n",
       "\t4608 & 4.920821        &  99             & 8.637521        & -0.4650520      & Private room    & False           & 10              & 2              \\\\\n",
       "\t4609 & 5.493824        &  95             & 4.051331        & -0.7529013      & Private room    & False           & 10              & 2              \\\\\n",
       "\t4610 & 5.738021        & 100             & 6.347654        & -0.8077455      & Private room    & False           & 10              & 2              \\\\\n",
       "\t4611 & 5.579949        &  84             & 5.231706        & -0.7679800      & Entire home/apt & False           &  8              & 4              \\\\\n",
       "\t4612 & 4.957863        &  97             & 8.867238        &  0.9839520      & Private room    & False           & 10              & 2              \\\\\n",
       "\t4613 & 5.919711        &  80             & 7.576798        &  0.5203981      & Private room    & False           &  8              & 2              \\\\\n",
       "\t4614 & 6.351157        &  98             & 6.882617        &  0.3596579      & Entire home/apt & True            & 10              & 6              \\\\\n",
       "\\end{tabular}\n"
      ],
      "text/markdown": [
       "\n",
       "| <!--/--> | log_real_sum | guest_satisfaction_overall | dist | log_metro_dist | room_type | host_is_superhost | cleanliness_rating | person_capacity |\n",
       "|---|---|---|---|---|---|---|---|---|\n",
       "| 1 | 6.345808        |  98             | 5.301018        |  0.46309882     | Entire home/apt | False           | 10              | 2               |\n",
       "| 2 | 5.697041        |  99             | 2.198946        | -0.96952798     | Private room    | True            | 10              | 2               |\n",
       "| 3 | 5.819461        |  96             | 2.322958        | -0.79147115     | Private room    | False           | 10              | 2               |\n",
       "| 4 | 5.423725        |  99             | 5.707825        |  0.54463390     | Private room    | True            | 10              | 2               |\n",
       "| 5 | 5.546567        |  98             | 3.257945        | -0.19186635     | Private room    | False           |  9              | 3               |\n",
       "| 6 | 5.480192        | 100             | 5.085730        |  0.59123521     | Private room    | False           | 10              | 2               |\n",
       "| 7 | 5.781023        | 100             | 4.595055        | -1.21443171     | Private room    | False           | 10              | 2               |\n",
       "| 8 | 5.047900        |  95             | 5.102453        |  0.01361301     | Private room    | False           | 10              | 2               |\n",
       "| 9 | 4.862552        |  93             | 4.534041        |  0.57256366     | Private room    | False           |  9              | 4               |\n",
       "| 10 | 5.505363        |  74             | 3.746655        | -0.87334028     | Entire home/apt | False           |  8              | 3               |\n",
       "| 11 | 5.394250        |  79             | 3.789853        | -0.96059959     | Entire home/apt | False           |  9              | 2               |\n",
       "| 12 | 5.894118        |  83             | 4.639113        | -0.70213147     | Entire home/apt | False           |  8              | 2               |\n",
       "| 13 | 5.334826        |  80             | 5.945243        |  0.55558250     | Private room    | False           |  4              | 2               |\n",
       "| 14 | 5.652661        |  97             | 3.221715        |  0.14166694     | Private room    | True            |  9              | 2               |\n",
       "| 15 | 6.224927        |  90             | 4.487706        |  0.67746487     | Entire home/apt | False           |  9              | 4               |\n",
       "| 16 | 4.959514        |  96             | 4.323866        | -0.21337515     | Private room    | False           | 10              | 2               |\n",
       "| 17 | 5.739535        |  93             | 5.328496        |  0.56189997     | Private room    | False           |  9              | 2               |\n",
       "| 18 | 6.411661        |  90             | 3.589793        | -1.60297967     | Entire home/apt | False           | 10              | 4               |\n",
       "| 19 | 5.334826        |  99             | 5.116671        |  0.51545822     | Private room    | True            | 10              | 2               |\n",
       "| 20 | 5.270439        |  95             | 3.695675        | -1.04013730     | Private room    | False           | 10              | 2               |\n",
       "| 21 | 6.240173        |  95             | 3.545079        | -0.39102002     | Entire home/apt | False           |  9              | 4               |\n",
       "| 22 | 5.328000        |  97             | 3.218594        | -0.75999247     | Private room    | True            | 10              | 2               |\n",
       "| 23 | 5.363878        |  96             | 3.066884        | -0.69180959     | Private room    | True            |  9              | 2               |\n",
       "| 24 | 5.371558        |  89             | 3.481758        | -1.48977594     | Private room    | False           |  9              | 3               |\n",
       "| 25 | 4.979123        | 100             | 5.689223        | -0.07994721     | Private room    | True            | 10              | 2               |\n",
       "| 27 | 5.605355        |  96             | 3.776313        | -0.25764536     | Private room    | False           | 10              | 5               |\n",
       "| 28 | 5.395317        |  91             | 3.783454        | -0.24804864     | Private room    | False           |  9              | 2               |\n",
       "| 29 | 5.893470        |  91             | 5.453817        |  0.05956976     | Entire home/apt | False           |  9              | 2               |\n",
       "| 30 | 5.605355        |  93             | 4.193576        | -1.26748372     | Entire home/apt | False           |  9              | 3               |\n",
       "| 31 | 5.334826        |  89             | 5.943429        |  0.29316137     | Private room    | False           |  9              | 2               |\n",
       "| ... | ... | ... | ... | ... | ... | ... | ... | ... |\n",
       "| 4585 | 5.168699        | 100             | 8.373487        |  1.0706432      | Private room    | False           |  9              | 2               |\n",
       "| 4586 | 5.504406        | 100             | 9.097793        |  0.8981538      | Private room    | False           |  9              | 2               |\n",
       "| 4587 | 4.910476        |  85             | 6.217976        |  0.1378439      | Private room    | False           |  8              | 2               |\n",
       "| 4588 | 4.957863        |  98             | 7.515516        |  0.5292551      | Private room    | True            | 10              | 2               |\n",
       "| 4589 | 5.380263        |  93             | 5.469061        | -0.9808808      | Private room    | True            | 10              | 2               |\n",
       "| 4590 | 4.957863        | 100             | 9.716556        |  0.7283276      | Private room    | False           |  6              | 2               |\n",
       "| 4591 | 5.772276        |  92             | 6.941642        |  0.6407680      | Private room    | False           | 10              | 2               |\n",
       "| 4592 | 5.351690        | 100             | 9.494305        | -0.4052656      | Private room    | True            | 10              | 2               |\n",
       "| 4593 | 5.455377        |  97             | 9.342033        | -0.4282111      | Private room    | True            | 10              | 2               |\n",
       "| 4594 | 5.043358        |  93             | 7.449505        |  0.1147213      | Private room    | True            |  9              | 2               |\n",
       "| 4595 | 5.829882        |  97             | 9.439182        | -0.2845993      | Entire home/apt | True            | 10              | 4               |\n",
       "| 4596 | 6.126679        |  92             | 4.174994        | -0.4935077      | Entire home/apt | False           |  9              | 2               |\n",
       "| 4597 | 5.070305        |  93             | 5.015802        |  0.1405277      | Private room    | False           | 10              | 2               |\n",
       "| 4598 | 6.366226        | 100             | 7.067142        |  0.3498878      | Entire home/apt | False           |  9              | 4               |\n",
       "| 4599 | 5.603624        |  86             | 7.109921        |  0.6931596      | Private room    | False           |  9              | 4               |\n",
       "| 4600 | 5.293153        |  93             | 6.227193        | -1.5904407      | Private room    | False           | 10              | 2               |\n",
       "| 4601 | 5.555700        |  84             | 7.489919        |  0.8681703      | Entire home/apt | False           | 10              | 4               |\n",
       "| 4602 | 5.892172        |  94             | 5.886969        | -2.1134230      | Entire home/apt | False           |  9              | 6               |\n",
       "| 4603 | 5.445276        |  93             | 4.152503        | -0.1346498      | Private room    | False           |  9              | 2               |\n",
       "| 4604 | 5.124917        | 100             | 7.091358        |  0.6848041      | Private room    | False           | 10              | 2               |\n",
       "| 4605 | 5.248433        |  91             | 7.303631        |  0.5522990      | Private room    | False           |  9              | 2               |\n",
       "| 4606 | 5.926636        |  90             | 7.496856        |  0.2685037      | Entire home/apt | False           | 10              | 3               |\n",
       "| 4607 | 5.084968        |  90             | 8.145774        |  0.7125558      | Private room    | False           |  9              | 2               |\n",
       "| 4608 | 4.920821        |  99             | 8.637521        | -0.4650520      | Private room    | False           | 10              | 2               |\n",
       "| 4609 | 5.493824        |  95             | 4.051331        | -0.7529013      | Private room    | False           | 10              | 2               |\n",
       "| 4610 | 5.738021        | 100             | 6.347654        | -0.8077455      | Private room    | False           | 10              | 2               |\n",
       "| 4611 | 5.579949        |  84             | 5.231706        | -0.7679800      | Entire home/apt | False           |  8              | 4               |\n",
       "| 4612 | 4.957863        |  97             | 8.867238        |  0.9839520      | Private room    | False           | 10              | 2               |\n",
       "| 4613 | 5.919711        |  80             | 7.576798        |  0.5203981      | Private room    | False           |  8              | 2               |\n",
       "| 4614 | 6.351157        |  98             | 6.882617        |  0.3596579      | Entire home/apt | True            | 10              | 6               |\n",
       "\n"
      ],
      "text/plain": [
       "     log_real_sum guest_satisfaction_overall dist     log_metro_dist\n",
       "1    6.345808      98                        5.301018  0.46309882   \n",
       "2    5.697041      99                        2.198946 -0.96952798   \n",
       "3    5.819461      96                        2.322958 -0.79147115   \n",
       "4    5.423725      99                        5.707825  0.54463390   \n",
       "5    5.546567      98                        3.257945 -0.19186635   \n",
       "6    5.480192     100                        5.085730  0.59123521   \n",
       "7    5.781023     100                        4.595055 -1.21443171   \n",
       "8    5.047900      95                        5.102453  0.01361301   \n",
       "9    4.862552      93                        4.534041  0.57256366   \n",
       "10   5.505363      74                        3.746655 -0.87334028   \n",
       "11   5.394250      79                        3.789853 -0.96059959   \n",
       "12   5.894118      83                        4.639113 -0.70213147   \n",
       "13   5.334826      80                        5.945243  0.55558250   \n",
       "14   5.652661      97                        3.221715  0.14166694   \n",
       "15   6.224927      90                        4.487706  0.67746487   \n",
       "16   4.959514      96                        4.323866 -0.21337515   \n",
       "17   5.739535      93                        5.328496  0.56189997   \n",
       "18   6.411661      90                        3.589793 -1.60297967   \n",
       "19   5.334826      99                        5.116671  0.51545822   \n",
       "20   5.270439      95                        3.695675 -1.04013730   \n",
       "21   6.240173      95                        3.545079 -0.39102002   \n",
       "22   5.328000      97                        3.218594 -0.75999247   \n",
       "23   5.363878      96                        3.066884 -0.69180959   \n",
       "24   5.371558      89                        3.481758 -1.48977594   \n",
       "25   4.979123     100                        5.689223 -0.07994721   \n",
       "27   5.605355      96                        3.776313 -0.25764536   \n",
       "28   5.395317      91                        3.783454 -0.24804864   \n",
       "29   5.893470      91                        5.453817  0.05956976   \n",
       "30   5.605355      93                        4.193576 -1.26748372   \n",
       "31   5.334826      89                        5.943429  0.29316137   \n",
       "...  ...          ...                        ...      ...           \n",
       "4585 5.168699     100                        8.373487  1.0706432    \n",
       "4586 5.504406     100                        9.097793  0.8981538    \n",
       "4587 4.910476      85                        6.217976  0.1378439    \n",
       "4588 4.957863      98                        7.515516  0.5292551    \n",
       "4589 5.380263      93                        5.469061 -0.9808808    \n",
       "4590 4.957863     100                        9.716556  0.7283276    \n",
       "4591 5.772276      92                        6.941642  0.6407680    \n",
       "4592 5.351690     100                        9.494305 -0.4052656    \n",
       "4593 5.455377      97                        9.342033 -0.4282111    \n",
       "4594 5.043358      93                        7.449505  0.1147213    \n",
       "4595 5.829882      97                        9.439182 -0.2845993    \n",
       "4596 6.126679      92                        4.174994 -0.4935077    \n",
       "4597 5.070305      93                        5.015802  0.1405277    \n",
       "4598 6.366226     100                        7.067142  0.3498878    \n",
       "4599 5.603624      86                        7.109921  0.6931596    \n",
       "4600 5.293153      93                        6.227193 -1.5904407    \n",
       "4601 5.555700      84                        7.489919  0.8681703    \n",
       "4602 5.892172      94                        5.886969 -2.1134230    \n",
       "4603 5.445276      93                        4.152503 -0.1346498    \n",
       "4604 5.124917     100                        7.091358  0.6848041    \n",
       "4605 5.248433      91                        7.303631  0.5522990    \n",
       "4606 5.926636      90                        7.496856  0.2685037    \n",
       "4607 5.084968      90                        8.145774  0.7125558    \n",
       "4608 4.920821      99                        8.637521 -0.4650520    \n",
       "4609 5.493824      95                        4.051331 -0.7529013    \n",
       "4610 5.738021     100                        6.347654 -0.8077455    \n",
       "4611 5.579949      84                        5.231706 -0.7679800    \n",
       "4612 4.957863      97                        8.867238  0.9839520    \n",
       "4613 5.919711      80                        7.576798  0.5203981    \n",
       "4614 6.351157      98                        6.882617  0.3596579    \n",
       "     room_type       host_is_superhost cleanliness_rating person_capacity\n",
       "1    Entire home/apt False             10                 2              \n",
       "2    Private room    True              10                 2              \n",
       "3    Private room    False             10                 2              \n",
       "4    Private room    True              10                 2              \n",
       "5    Private room    False              9                 3              \n",
       "6    Private room    False             10                 2              \n",
       "7    Private room    False             10                 2              \n",
       "8    Private room    False             10                 2              \n",
       "9    Private room    False              9                 4              \n",
       "10   Entire home/apt False              8                 3              \n",
       "11   Entire home/apt False              9                 2              \n",
       "12   Entire home/apt False              8                 2              \n",
       "13   Private room    False              4                 2              \n",
       "14   Private room    True               9                 2              \n",
       "15   Entire home/apt False              9                 4              \n",
       "16   Private room    False             10                 2              \n",
       "17   Private room    False              9                 2              \n",
       "18   Entire home/apt False             10                 4              \n",
       "19   Private room    True              10                 2              \n",
       "20   Private room    False             10                 2              \n",
       "21   Entire home/apt False              9                 4              \n",
       "22   Private room    True              10                 2              \n",
       "23   Private room    True               9                 2              \n",
       "24   Private room    False              9                 3              \n",
       "25   Private room    True              10                 2              \n",
       "27   Private room    False             10                 5              \n",
       "28   Private room    False              9                 2              \n",
       "29   Entire home/apt False              9                 2              \n",
       "30   Entire home/apt False              9                 3              \n",
       "31   Private room    False              9                 2              \n",
       "...  ...             ...               ...                ...            \n",
       "4585 Private room    False              9                 2              \n",
       "4586 Private room    False              9                 2              \n",
       "4587 Private room    False              8                 2              \n",
       "4588 Private room    True              10                 2              \n",
       "4589 Private room    True              10                 2              \n",
       "4590 Private room    False              6                 2              \n",
       "4591 Private room    False             10                 2              \n",
       "4592 Private room    True              10                 2              \n",
       "4593 Private room    True              10                 2              \n",
       "4594 Private room    True               9                 2              \n",
       "4595 Entire home/apt True              10                 4              \n",
       "4596 Entire home/apt False              9                 2              \n",
       "4597 Private room    False             10                 2              \n",
       "4598 Entire home/apt False              9                 4              \n",
       "4599 Private room    False              9                 4              \n",
       "4600 Private room    False             10                 2              \n",
       "4601 Entire home/apt False             10                 4              \n",
       "4602 Entire home/apt False              9                 6              \n",
       "4603 Private room    False              9                 2              \n",
       "4604 Private room    False             10                 2              \n",
       "4605 Private room    False              9                 2              \n",
       "4606 Entire home/apt False             10                 3              \n",
       "4607 Private room    False              9                 2              \n",
       "4608 Private room    False             10                 2              \n",
       "4609 Private room    False             10                 2              \n",
       "4610 Private room    False             10                 2              \n",
       "4611 Entire home/apt False              8                 4              \n",
       "4612 Private room    False             10                 2              \n",
       "4613 Private room    False              8                 2              \n",
       "4614 Entire home/apt True              10                 6              "
      ]
     },
     "metadata": {},
     "output_type": "display_data"
    }
   ],
   "source": [
    "data1"
   ]
  },
  {
   "cell_type": "code",
   "execution_count": 310,
   "id": "a4c3ea55",
   "metadata": {},
   "outputs": [
    {
     "name": "stdout",
     "output_type": "stream",
     "text": [
      "'data.frame':\t4292 obs. of  8 variables:\n",
      " $ log_real_sum              : num  6.35 5.7 5.82 5.42 5.55 ...\n",
      " $ guest_satisfaction_overall: num  98 99 96 99 98 100 100 95 93 74 ...\n",
      " $ dist                      : num  5.3 2.2 2.32 5.71 3.26 ...\n",
      " $ log_metro_dist            : num  0.463 -0.97 -0.791 0.545 -0.192 ...\n",
      " $ room_type                 : Factor w/ 3 levels \"Entire home/apt\",..: 1 2 2 2 2 2 2 2 2 1 ...\n",
      " $ host_is_superhost         : Factor w/ 2 levels \"False\",\"True\": 1 2 1 2 1 1 1 1 1 1 ...\n",
      " $ cleanliness_rating        : num  10 10 10 10 9 10 10 10 9 8 ...\n",
      " $ person_capacity           : num  2 2 2 2 3 2 2 2 4 3 ...\n"
     ]
    }
   ],
   "source": [
    "str(data1)"
   ]
  },
  {
   "cell_type": "code",
   "execution_count": 311,
   "id": "fbf6e224",
   "metadata": {},
   "outputs": [
    {
     "data": {
      "text/plain": [
       "  log_real_sum   guest_satisfaction_overall      dist         \n",
       " Min.   :4.169   Min.   : 67.00             Min.   : 0.04055  \n",
       " 1st Qu.:5.122   1st Qu.: 87.00             1st Qu.: 3.54499  \n",
       " Median :5.545   Median : 94.00             Median : 4.86694  \n",
       " Mean   :5.611   Mean   : 91.88             Mean   : 5.10754  \n",
       " 3rd Qu.:6.056   3rd Qu.: 99.00             3rd Qu.: 6.66725  \n",
       " Max.   :7.502   Max.   :100.00             Max.   :11.80162  \n",
       " log_metro_dist               room_type    host_is_superhost cleanliness_rating\n",
       " Min.   :-4.27558   Entire home/apt:1801   False:3640        Min.   : 4.000    \n",
       " 1st Qu.:-1.15104   Private room   :2472   True : 652        1st Qu.: 9.000    \n",
       " Median :-0.66209   Shared room    :  19                     Median :10.000    \n",
       " Mean   :-0.57175                                            Mean   : 9.269    \n",
       " 3rd Qu.:-0.01753                                            3rd Qu.:10.000    \n",
       " Max.   : 2.07231                                            Max.   :10.000    \n",
       " person_capacity\n",
       " Min.   :2.00   \n",
       " 1st Qu.:2.00   \n",
       " Median :2.00   \n",
       " Mean   :2.81   \n",
       " 3rd Qu.:4.00   \n",
       " Max.   :6.00   "
      ]
     },
     "metadata": {},
     "output_type": "display_data"
    }
   ],
   "source": [
    "summary(data1)"
   ]
  },
  {
   "cell_type": "markdown",
   "id": "fe07304f",
   "metadata": {},
   "source": [
    "# 6 Statistical Analysis"
   ]
  },
  {
   "cell_type": "code",
   "execution_count": null,
   "id": "f99b8aad",
   "metadata": {},
   "outputs": [],
   "source": [
    "# todo"
   ]
  }
 ],
 "metadata": {
  "kernelspec": {
   "display_name": "R",
   "language": "R",
   "name": "ir"
  },
  "language_info": {
   "codemirror_mode": "r",
   "file_extension": ".r",
   "mimetype": "text/x-r-source",
   "name": "R",
   "pygments_lexer": "r",
   "version": "3.6.1"
  }
 },
 "nbformat": 4,
 "nbformat_minor": 5
}
